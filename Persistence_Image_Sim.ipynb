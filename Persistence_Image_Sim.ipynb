{
 "cells": [
  {
   "cell_type": "code",
   "execution_count": 1,
   "metadata": {},
   "outputs": [],
   "source": [
    "import numpy as np\n",
    "import pandas as pd\n",
    "import PersistenceImages.persistence_images as pimg\n",
    "\n",
    "from ripser import Rips\n",
    "from scipy.io import loadmat\n",
    "from matplotlib import pyplot as plt"
   ]
  },
  {
   "cell_type": "markdown",
   "metadata": {},
   "source": [
    "#### TODO (WZ):\n",
    "- For each simulation condition (clustered, spanning and individual) at steady state (time-step 150,000), compute persistence images ($H_0$ and $H_1$). Remove points from the point-cloud and plot changes in image-distance against number of removals. Plot separately for $H_0$, $H_1$ and their sum. Compare with results obtained for Wasserstein distance."
   ]
  },
  {
   "cell_type": "code",
   "execution_count": null,
   "metadata": {},
   "outputs": [],
   "source": []
  }
 ],
 "metadata": {
  "@webio": {
   "lastCommId": "1f760b8f15c442218d243b952bd403bc",
   "lastKernelId": "58a90fa5-55ae-4360-8853-5ebb5f3fefd8"
  },
  "kernelspec": {
   "display_name": "Python 3.6 TDA",
   "language": "python",
   "name": "py36"
  },
  "language_info": {
   "codemirror_mode": {
    "name": "ipython",
    "version": 3
   },
   "file_extension": ".py",
   "mimetype": "text/x-python",
   "name": "python",
   "nbconvert_exporter": "python",
   "pygments_lexer": "ipython3",
   "version": "3.6.10"
  }
 },
 "nbformat": 4,
 "nbformat_minor": 2
}
