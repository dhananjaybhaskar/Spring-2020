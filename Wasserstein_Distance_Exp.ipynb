{
 "cells": [
  {
   "cell_type": "code",
   "execution_count": 1,
   "metadata": {},
   "outputs": [
    {
     "data": {
      "text/html": [
       "<script>\n",
       "// Immediately-invoked-function-expression to avoid global variables.\n",
       "(function() {\n",
       "    var warning_div = document.getElementById(\"webio-warning-13031977173223221699\");\n",
       "    var hide = function () {\n",
       "        var script = document.getElementById(\"webio-setup-14372173687697370065\");\n",
       "        var parent = script && script.parentElement;\n",
       "        var grandparent = parent && parent.parentElement;\n",
       "        if (grandparent) {\n",
       "            grandparent.style.display = \"none\";\n",
       "        }\n",
       "        warning_div.style.display = \"none\";\n",
       "    };\n",
       "    if (typeof Jupyter !== \"undefined\") {\n",
       "        console.log(\"WebIO detected Jupyter notebook environment.\");\n",
       "        // Jupyter notebook.\n",
       "        var extensions = (\n",
       "            Jupyter\n",
       "            && Jupyter.notebook.config.data\n",
       "            && Jupyter.notebook.config.data.load_extensions\n",
       "        );\n",
       "        if (extensions && extensions[\"webio-jupyter-notebook\"]) {\n",
       "            // Extension already loaded.\n",
       "            console.log(\"Jupyter WebIO nbextension detected; not loading ad-hoc.\");\n",
       "            hide();\n",
       "            return;\n",
       "        }\n",
       "    } else if (window.location.pathname.includes(\"/lab\")) {\n",
       "        // Guessing JupyterLa\n",
       "        console.log(\"Jupyter Lab detected; make sure the @webio/jupyter-lab-provider labextension is installed.\");\n",
       "        hide();\n",
       "        return;\n",
       "    }\n",
       "})();\n",
       "\n",
       "</script>\n",
       "<p\n",
       "    id=\"webio-warning-13031977173223221699\"\n",
       "    class=\"output_text output_stderr\"\n",
       "    style=\"padding: 1em; font-weight: bold;\"\n",
       ">\n",
       "    Unable to load WebIO. Please make sure WebIO works for your Jupyter client.\n",
       "    For troubleshooting, please see <a href=\"https://juliagizmos.github.io/WebIO.jl/latest/providers/ijulia/\">\n",
       "    the WebIO/IJulia documentation</a>.\n",
       "    <!-- TODO: link to installation docs. -->\n",
       "</p>\n"
      ],
      "text/plain": [
       "HTML{String}(\"<script>\\n// Immediately-invoked-function-expression to avoid global variables.\\n(function() {\\n    var warning_div = document.getElementById(\\\"webio-warning-13031977173223221699\\\");\\n    var hide = function () {\\n        var script = document.getElementById(\\\"webio-setup-14372173687697370065\\\");\\n        var parent = script && script.parentElement;\\n        var grandparent = parent && parent.parentElement;\\n        if (grandparent) {\\n            grandparent.style.display = \\\"none\\\";\\n        }\\n        warning_div.style.display = \\\"none\\\";\\n    };\\n    if (typeof Jupyter !== \\\"undefined\\\") {\\n        console.log(\\\"WebIO detected Jupyter notebook environment.\\\");\\n        // Jupyter notebook.\\n        var extensions = (\\n            Jupyter\\n            && Jupyter.notebook.config.data\\n            && Jupyter.notebook.config.data.load_extensions\\n        );\\n        if (extensions && extensions[\\\"webio-jupyter-notebook\\\"]) {\\n            // Extension already loaded.\\n            console.log(\\\"Jupyter WebIO nbextension detected; not loading ad-hoc.\\\");\\n            hide();\\n            return;\\n        }\\n    } else if (window.location.pathname.includes(\\\"/lab\\\")) {\\n        // Guessing JupyterLa\\n        console.log(\\\"Jupyter Lab detected; make sure the @webio/jupyter-lab-provider labextension is installed.\\\");\\n        hide();\\n        return;\\n    }\\n})();\\n\\n</script>\\n<p\\n    id=\\\"webio-warning-13031977173223221699\\\"\\n    class=\\\"output_text output_stderr\\\"\\n    style=\\\"padding: 1em; font-weight: bold;\\\"\\n>\\n    Unable to load WebIO. Please make sure WebIO works for your Jupyter client.\\n    For troubleshooting, please see <a href=\\\"https://juliagizmos.github.io/WebIO.jl/latest/providers/ijulia/\\\">\\n    the WebIO/IJulia documentation</a>.\\n    <!-- TODO: link to installation docs. -->\\n</p>\\n\")"
      ]
     },
     "metadata": {},
     "output_type": "display_data"
    }
   ],
   "source": [
    "using Pkg\n",
    "using WebIO\n",
    "using PyPlot\n",
    "using Eirene\n",
    "using PersistenceImage\n",
    "using MAT\n",
    "using Glob"
   ]
  },
  {
   "cell_type": "markdown",
   "metadata": {},
   "source": [
    "#### TODO:\n",
    "- Parse well number from filename and sort\n",
    "- Add colorbar to heatmap\n",
    "- Change tick labels to well name, e.g. 'Well 01'\n",
    "- For each well, find the 'closest' well by Wasserstein distance\n",
    "- For some randonly selected wells, visually inspect if the barcodes and point clouds look similar\n",
    "- Also, calculate persistence imgs for all wells and compute Euclidean distance between persistance imgs\n",
    "    - $\\frac{1}{nx \\times ny} \\sum_{x}\\sum_{y} |I_1(x,y) - I_2(x,y)|^2$"
   ]
  },
  {
   "cell_type": "code",
   "execution_count": 6,
   "metadata": {},
   "outputs": [],
   "source": [
    "filelist = glob(\"EGF(E6)w*.mat\",\"experimental-data\")\n",
    "sz = size(filelist)[1];\n",
    "eirenepreparray = [];\n",
    "for i in 1:sz\n",
    "    allvariables = matread(filelist[i]);\n",
    "    allx = allvariables[\"storeX\"];\n",
    "    ally = allvariables[\"storeY\"];\n",
    "    #velocity not relevant yet\n",
    "    #allxvel = allvariables[\"storevelX\"]);\n",
    "    #allyvel = allvariables[\"storevelY\"]);\n",
    "    timesteplastx = allx[1:end,size(allx)[2]];\n",
    "    timesteplasty = ally[1:end,size(ally)[2]];\n",
    "    timesteplastx = filter!(!(isnan),timesteplastx);\n",
    "    timesteplasty = filter!(!(isnan),timesteplasty);\n",
    "    positiontimelast = hcat(timesteplastx, timesteplasty);\n",
    "    positiontimelast = transpose(positiontimelast);\n",
    "    push!(eirenepreparray, positiontimelast);\n",
    "end"
   ]
  },
  {
   "cell_type": "code",
   "execution_count": 20,
   "metadata": {},
   "outputs": [],
   "source": [
    "persist_diagarray = [];\n",
    "barcodes_array = []\n",
    "for j in 1:sz\n",
    "    pers_diag = eirene(eirenepreparray[j], model=\"pc\", maxdim = 1);\n",
    "    push!(persist_diagarray, pers_diag);\n",
    "    push!(barcodes_array, barcode(pers_diag));\n",
    "end"
   ]
  },
  {
   "cell_type": "code",
   "execution_count": 24,
   "metadata": {},
   "outputs": [],
   "source": [
    "wassmatrix = Array{Float64}(undef, sz, sz);\n",
    "for rows in 1:sz\n",
    "    for cols in 1:sz\n",
    "        wassmatrix[rows,cols] = wasserstein_distance(barcodes_array[rows], barcodes_array[cols], q=2, p=2);\n",
    "    end\n",
    "end"
   ]
  },
  {
   "cell_type": "markdown",
   "metadata": {},
   "source": [
    "Example plotting code from Python\n",
    "\n",
    "```python\n",
    "# Note: For images normalize to 1.0 or 255 (0-255)\n",
    "plt.figure(figsize=(8,6), dpi=300)\n",
    "plt.imshow(img, cmap='gray')\n",
    "plt.colorbar()\n",
    "ax = plt.gca()\n",
    "ax.set_xticklabels([array_of_labels])\n",
    "plt.savefig(\"myfig.eps\")\n",
    "```"
   ]
  },
  {
   "cell_type": "code",
   "execution_count": 34,
   "metadata": {},
   "outputs": [
    {
     "data": {
      "image/png": "[encoded data removed]",
      "text/plain": [
       "Figure(PyObject <Figure size 640x480 with 1 Axes>)"
      ]
     },
     "metadata": {},
     "output_type": "display_data"
    },
    {
     "data": {
      "text/plain": [
       "PyObject <matplotlib.image.AxesImage object at 0x00000000390BDF98>"
      ]
     },
     "execution_count": 34,
     "metadata": {},
     "output_type": "execute_result"
    }
   ],
   "source": [
    "max_coord = maximum(wassmatrix);\n",
    "wassmatrix = wassmatrix/max_coord;\n",
    "wassmatrix = wassmatrix * 100;\n",
    "imshow(wassmatrix, cmap=\"gray\")"
   ]
  },
  {
   "cell_type": "code",
   "execution_count": 8,
   "metadata": {},
   "outputs": [
    {
     "data": {
      "text/plain": [
       "0"
      ]
     },
     "execution_count": 8,
     "metadata": {},
     "output_type": "execute_result"
    }
   ],
   "source": []
  },
  {
   "cell_type": "code",
   "execution_count": null,
   "metadata": {},
   "outputs": [],
   "source": []
  }
 ],
 "metadata": {
  "kernelspec": {
   "display_name": "Julia 1.3.1",
   "language": "julia",
   "name": "julia-1.3"
  },
  "language_info": {
   "file_extension": ".jl",
   "mimetype": "application/julia",
   "name": "julia",
   "version": "1.3.1"
  }
 },
 "nbformat": 4,
 "nbformat_minor": 2
}
